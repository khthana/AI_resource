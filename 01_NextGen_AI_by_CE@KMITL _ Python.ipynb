{
 "cells": [
  {
   "cell_type": "markdown",
   "metadata": {},
   "source": [
    "<a href=\"https://colab.research.google.com/github/googlecolab/colabtools/blob/main/notebooks/01_NextGen_AI_by_CE@KMITL _ Python.ipynb\" target=\"_parent\"><img src=\"https://colab.research.google.com/assets/colab-badge.svg\" alt=\"Open In Colab\"/></a>"
   ]
  },
  {
   "cell_type": "markdown",
   "metadata": {
    "id": "tSZjwlHHLQO4"
   },
   "source": [
    "#Python Programming (ตอนที่ 1)\n",
    "\n",
    "ภาษา Python เป็นภาษาที่ความต้องการจ้างงานเป็นอันดับ 1\n",
    "และเป็นภาษาที่ใช้มากที่สุดในวงการ AI ดังนั้นจึงมีความจำเป็นต้องเรียนภาษา Python\n",
    "\n",
    "<img src=\"https://codingnomads.com/images/80702583-1fad-4770-1912-bda7901f7a00/public\" width=\"500\">"
   ]
  },
  {
   "cell_type": "markdown",
   "metadata": {
    "id": "REYABHkFHFK3"
   },
   "source": [
    "## คำสั่ง print\n",
    "\n",
    "คำสั่ง print ใช้ในการแสดงผล"
   ]
  },
  {
   "cell_type": "code",
   "execution_count": null,
   "metadata": {
    "id": "mYqiwzTYGpvT"
   },
   "outputs": [],
   "source": [
    "print(\"Hello, NextGen AI Camper\")"
   ]
  },
  {
   "cell_type": "markdown",
   "metadata": {
    "id": "T4PrgMGRHaZq"
   },
   "source": [
    "ในการพิมพ์ข้อความ (String) จะใช้เครื่องหมาย \" หรือ ' ครอบเอาไว้ โดยเครื่องหมายเปิดและปิด ต้องเป็นเครื่องหมายเดียวกัน\n"
   ]
  },
  {
   "cell_type": "code",
   "execution_count": null,
   "metadata": {
    "id": "-V9UD8YmHl8t"
   },
   "outputs": [],
   "source": [
    "print(\"Hello, NextGen AI Camper\")\n",
    "print('Welcome to CE-KMITL')"
   ]
  },
  {
   "cell_type": "markdown",
   "metadata": {
    "id": "rIhievMgHyoX"
   },
   "source": [
    "***Todo***\n",
    "\n",
    "ให้ใช้คำสั่ง print พิมพ์ข้อความ ต่อไปนี้ออกจอภาพ\n",
    "\n",
    "Python Print Function   \n",
    "The function is declared like this:   \n",
    "print('what to print')\n",
    "\n"
   ]
  },
  {
   "cell_type": "code",
   "execution_count": null,
   "metadata": {
    "id": "JV4ZzIMIIAS3"
   },
   "outputs": [],
   "source": []
  },
  {
   "cell_type": "markdown",
   "metadata": {
    "id": "f0vCaw-1IHFm"
   },
   "source": [
    "เราสามารถสั่งให้ขึ้นบรรทัดใหม่ ใน string เดียวกัน โดยใช้อักขระพิเศษ \\n มีความหมาย = new line หรือ ขึ้นบรรทัดใหม่\n"
   ]
  },
  {
   "cell_type": "code",
   "execution_count": null,
   "metadata": {
    "id": "ZZ3XAu6qIRfM"
   },
   "outputs": [],
   "source": [
    "print(\"Hello, NextGen AI Camper\\nWelcome to CE-KMITL\")"
   ]
  },
  {
   "cell_type": "markdown",
   "metadata": {
    "id": "oCUNMiYtIboV"
   },
   "source": [
    "String สามารถเอามาต่อกันได้โดยเครื่องหมาย + (เรียกว่า String Operator)"
   ]
  },
  {
   "cell_type": "code",
   "execution_count": null,
   "metadata": {
    "id": "zJauB6J4RUSm"
   },
   "outputs": [],
   "source": [
    "print(\"Hello,\" + \" NextGen AI Camper\")"
   ]
  },
  {
   "cell_type": "markdown",
   "metadata": {
    "id": "jP10kZb7ReWp"
   },
   "source": [
    "นอกจากการ + สำหรับ string แล้ว เรายังสามารถใช้เครื่องหมาย * ได้ด้วย\n",
    "โดยมีความหมาย คือ การทำซ้ำ String จำนวน n ครั้ง\n",
    "เราสามารถประยุกต์ความสามารถนี้ เช่น print(“-” * 80)"
   ]
  },
  {
   "cell_type": "code",
   "execution_count": null,
   "metadata": {
    "id": "ZZYqR7UxRs4n"
   },
   "outputs": [],
   "source": [
    "print('-'*78)\n",
    "print('NextGen AI       '*5)\n",
    "print('-'*78)"
   ]
  },
  {
   "cell_type": "markdown",
   "metadata": {
    "id": "wpDO62MDSEYc"
   },
   "source": [
    "## คำสั่ง Input\n",
    "\n",
    "คำสั่ง Input ใช้ในการรับข้อมูล โดยมีรูปแบบการใช้งาน คือ\n",
    "\n",
    "\n",
    "```\n",
    "Input(Prompt)\n",
    "```\n",
    "\n",
    "โดย Prompt คือ ข้อความที่จะแสดงให้รู้ว่าต้องการข้อมูลอะไร\n",
    "\n"
   ]
  },
  {
   "cell_type": "code",
   "execution_count": null,
   "metadata": {
    "id": "1GY8tLPCUAUe"
   },
   "outputs": [],
   "source": [
    "input(\"What is your name : \")\n",
    "print(\"Hello \" + input(\"What is your name : \"))"
   ]
  },
  {
   "cell_type": "markdown",
   "metadata": {
    "id": "uZDqmzgYUeZU"
   },
   "source": [
    "## คำสั่ง len\n",
    "\n",
    "ใช้ในการหาความยาวของข้อมูล เช่น สมมติว่าต้องการทราบความยาวของข้อมูลที่รับเข้ามา"
   ]
  },
  {
   "cell_type": "code",
   "execution_count": null,
   "metadata": {
    "id": "j3Ul-9quUv30"
   },
   "outputs": [],
   "source": [
    "print(\"Length of name : \", len(input(\"What is your name : \")))"
   ]
  },
  {
   "cell_type": "markdown",
   "metadata": {
    "id": "MeMbGFJ3VV9-"
   },
   "source": [
    "## ตัวแปร (Variable)\n",
    "\n",
    "ตัวแปรในภาษา Python คือ สิ่งที่ใช้ในการชี้ข้อมูลที่เก็บอยู่ในหน่วยความจำ\n",
    "\n",
    "<img src=\"https://media.geeksforgeeks.org/wp-content/uploads/20220720165503/3.png\" width=\"300\">\n",
    "\n",
    "ในการเขียนโปรแกรม ในบางครั้งเราจำเป็นต้องเก็บข้อมูลเอาไว้ เพื่อความสะดวกในการเขียนโปรแกรม เช่น จากโปรแกรมก่อนหน้า หากเราเขียนโปรแกรมโดยใช้ตัวแปรก็จะได้ตาม code ด้านล่าง จะเห็นว่าอ่านได้ง่ายขึ้น\n",
    "\n",
    "การกำหนดค่าให้กับตัวแปร จะใช้เครื่องหมาย ' = '\n",
    "\n"
   ]
  },
  {
   "cell_type": "code",
   "execution_count": null,
   "metadata": {
    "id": "8Z9FIPBuW37i"
   },
   "outputs": [],
   "source": [
    "name = input(\"What is your name : \")\n",
    "print(\"Length of name : \", len(name))"
   ]
  },
  {
   "cell_type": "markdown",
   "metadata": {
    "id": "4ls41CuRW4nl"
   },
   "source": [
    "ข้อมูลในภาษา Python มีหลายชนิดตามรูป แต่ที่ใช้บ่อยๆ ก็จะมี\n",
    "- Integer เป็นชนิดข้อมูลสำหรับจำนวนเต็ม\n",
    "- Float เป็นชนิดข้อมูลสำหรับทศนิยม\n",
    "- String เป็นชนิดข้อมูลสำหรับตัวอักษรตั้งแต่ 1 ตัวขึ้นไป\n",
    "- Boolean เป็นชนิดข้อมูลของลอจิก ประกอบด้วย True และ False\n",
    "- List เป็นชนิดข้อมูลที่เก็บข้อมูลได้เป็นชุด\n",
    "- Tuple เป็นชนิดข้อมูลที่เก็บข้อมูลได้เป็นชุด คล้ายกับ List แต่แก้ไขไม่ได้\n",
    "\n",
    "<div><img src=\"https://media.geeksforgeeks.org/wp-content/uploads/20191023173512/Python-data-structure.jpg\" width=\"500\"></div>"
   ]
  },
  {
   "cell_type": "code",
   "execution_count": null,
   "metadata": {
    "id": "YNJm_XH4HvoR"
   },
   "outputs": [],
   "source": [
    "s1 = \"NextGen AI\"\n",
    "s2 = \" by CE@KMITL\"\n",
    "s3 = s1+s2\n",
    "print(s3)"
   ]
  },
  {
   "cell_type": "markdown",
   "metadata": {
    "id": "afHL6kKiIDZE"
   },
   "source": [
    "##  ข้อมูลชนิด String\n",
    "\n",
    "ข้อมูลที่รับเข้ามา จะมีชนิดเป็น string ดังนั้นหากต้องการรับข้อมูลประเภทตัวเลข จะต้องมีการแปลงเสียก่อน"
   ]
  },
  {
   "cell_type": "code",
   "execution_count": null,
   "metadata": {
    "id": "Aok9JLOeIOnD"
   },
   "outputs": [],
   "source": [
    "in1 = input('Enter first number : ')\n",
    "in2 = input('Enter second number : ')\n",
    "print(in1+in2)\n",
    "print(int(in1)+int(in2))"
   ]
  },
  {
   "cell_type": "markdown",
   "metadata": {
    "id": "FsAjLHrUJx8E"
   },
   "source": [
    "เนื่องจากภาษา Python เป็นภาษาที่เรียกว่า Dynamic Typing คือ ตัวแปรสามารถเปลี่ยนชนิดได้ และ หากต้องการทราบว่าตัวแปรนั้นในขณะนั้นเป็นชนิดอะไร สามารถใช้คำสั่ง type ได้"
   ]
  },
  {
   "cell_type": "code",
   "execution_count": null,
   "metadata": {
    "id": "6JncIqJeKEnx"
   },
   "outputs": [],
   "source": [
    "num1 = \"23\"\n",
    "num2 = \"34\"\n",
    "print(type(num1))\n",
    "num1 = int(num1)\n",
    "num2 = int(num2)\n",
    "print(type(num1))\n"
   ]
  },
  {
   "cell_type": "markdown",
   "metadata": {
    "id": "8kuqjMDDUTLM"
   },
   "source": [
    "## การตั้งชื่อตัวแปร\n",
    "\n",
    "การตั้งชื่อตัวแปร จะมีหลักนิยมอยู่ 3 แบบ\n",
    "- Snake Case จะใช้คำภาษาอังกฤษเขียนเป็นตัวเล็กทั้งหมด แล้วคั่นด้วยเครื่องหมาย _ เช่น sum_of_student_score จะเห็นว่าใช้คำเขียนต่อกันคล้ายงู จึงเรียกว่า snake case\n",
    "- Camel Case จะใช้ตัวอักษรตัวใหญ่เฉพาะตัวอักษรแรกของคำ “ยกเว้น” คำแรก เช่น sumOfStudentScore (มีลักษณะคล้ายอูฐ เลยเรียก Camel Case)\n",
    "- Pascal Case จะใช้ตัวอักษรตัวใหญ่เฉพาะตัวอักษรแรกของคำ โดยไม่มียกเว้น เช่น SumOfStudentScore (มาจากภาษา Pascal)\n",
    "- โดยทั่วไปมักใช้ Snake Case เพราะอ่านง่ายที่สุด\n",
    "- ตัวอักษรตัวใหญ่เล็ก ถือว่าเป็นคนละตัวกัน (Case Sensitive)\n",
    "- ตัวแรกต้องเป็นตัวอักษร หรือ _ เท่านั้น ตัวถัดมาเป็นตัวอักษร ตัวเลข และ _"
   ]
  },
  {
   "cell_type": "markdown",
   "metadata": {
    "id": "cKsCw2ulU4x7"
   },
   "source": [
    "## การระบุตำแหน่งตัวอักษรใน String\n",
    "\n",
    "เรื่องของ string จะมีความพิเศษกว่าตัวแปรชนิดอื่น\n",
    "String สามารถแยกใช้งานเป็นตัวๆ ได้ เช่น \"Hello\"[0] จะหมายถึงตัว H เพียงตัวเดียว (การใช้ต้องใช้เครื่องหมาย [ ] กำกับ โดยเริ่มนับจาก 0 เป็นต้นไป หมายถึงตัวอักษรตัวแรกของ String\n",
    "มีอักขระพิเศษ นอกจาก \\n ที่หมายถึงการขึ้นบรรทัดใหม่แล้ว ยังมี \\t ซึ่งหมายถึง Tab\n"
   ]
  },
  {
   "cell_type": "code",
   "execution_count": null,
   "metadata": {
    "id": "I9XNtVAbZo_d"
   },
   "outputs": [],
   "source": [
    "h = 'Hello'\n",
    "print('\\tPython')\n",
    "print(h[0], \"\\nPython\")\n",
    "print('Language: \\n\\tPython\\n\\tC\\n\\tJavaScript')"
   ]
  },
  {
   "cell_type": "markdown",
   "metadata": {
    "id": "FqCyZRBFU7Ap"
   },
   "source": [
    "## ข้อมูลชนิดตัวเลข\n",
    "\n",
    "ข้อมูลชนิดตัวเลขในภาษา Python จะมีหลายชนิด แต่ในเบื้องต้น จะทำความรู้จักกับข้อมูลชนิดตัวเลขเพียง 2 ชนิด คือ ข้อมูลชนิดจำนวนเต็ม (Integer) และข้อมูลชนิดทศนิยม (Float)"
   ]
  },
  {
   "cell_type": "markdown",
   "metadata": {
    "id": "XBW6xWWwKmqz"
   },
   "source": [
    "## การกระทำกับข้อมูลตัวเลข\n",
    "\n",
    "ข้อมูลที่เป็นตัวเลขมีการกระทำ (Operator) ดังนี้\n",
    "\n",
    "-การบวก (+) เช่น a + b\n",
    "\n",
    "-การลบ (-) เช่น a – b\n",
    "\n",
    "-การคูณ (\\*) เช่น a * b\n",
    "\n",
    "-การหาร (/) เช่น b / a\n",
    "\n",
    "-การหารเพื่อเอาเฉพาะเศษ (Modulus %)  เช่น b % a (เช่น 9 % 2 = 1)\n",
    "\n",
    "การหารแบบเอาผล (ไม่เอาเศษ (Floor Division)) //) เช่น  9//2 = 4\n",
    "\n",
    "การยกกำลัง (\\*\\*) เช่น  a**b\n"
   ]
  },
  {
   "cell_type": "code",
   "execution_count": null,
   "metadata": {
    "id": "ujVk_hm_a-cc"
   },
   "outputs": [],
   "source": [
    "print(6/3)\n",
    "print(2.0**3)\n",
    "print(5%2)\n",
    "print(5.0%2)\n",
    "print(10//3)\n"
   ]
  },
  {
   "cell_type": "markdown",
   "metadata": {
    "id": "CYeIMtJCbWTF"
   },
   "source": [
    "- ข้อที่ควรระวังอย่างหนึ่งของการคำนวณทางคณิตศาสตร์ คือ ชนิดข้อมูลของผลลัพธ์การคำนวณ ซึ่งอาจจะไม่ตรงกับข้อมูลที่นำมากระทำกัน\n",
    "เช่น ข้อมูล int หารด้วย int จะได้ชนิดข้อมูลเป็น float\n",
    "- ถือเป็นหลักง่ายๆ ก็ได้ว่า ถ้าข้อมูลชนิด float ทำ operation กับข้อมูลชนิดอื่นผลลัพธ์จะได้เป็น float แต่ถ้า int กับ int หารกันจะได้เป็น float เสมอ"
   ]
  },
  {
   "cell_type": "markdown",
   "metadata": {
    "id": "PC-2qn4jboYN"
   },
   "source": [
    "## ลำดับความสำคัญของ Operator\n",
    "\n",
    "กรณีที่มีหลายการกระทำ ก็จะต้องมีการกระทำก่อนหรือหลังกัน จะใช้หลักที่เขียนเป็นตัวย่อว่า PEMDAS\n",
    "- P = Parentheses หรือวงเล็บ () คือถ้ามีวงเล็บ ให้ทำในวงเล็บก่อน ถ้าวงเล็บซ้อนกันหลายชั้น จะทำชั้นในสุดก่อน\n",
    "- E = Exponent จากนั้นถ้ามีการยกกำลัง จะทำยกกำลังก่อน\n",
    "- M = Multiplication, D = Division จากนั้นถ้ามีการคูณหรือหาร ก็จะทำก่อน โดยคูณและหาร มีความสำคัญเท่ากัน เจออันไหนก่อนทำอันนั้นก่อน\n",
    "- A = Add, S = Subtraction จากนั้นจึงทำบวกและลบเป็นลำดับสุดท้าย โดยบวกและลบ มีความสำคัญเท่ากัน เจออันไหนก่อนทำอันนั้นก่อน\n",
    "- ในกรณีที่ลำดับความสำคัญเท่ากัน การทำงานจะทำจากซ้ายไปขวา\n"
   ]
  },
  {
   "cell_type": "markdown",
   "metadata": {
    "id": "ugyP-sz4cQP7"
   },
   "source": [
    "ตัวอย่างแสดงลำดับการทำงาน\n",
    "\n",
    "<img src=\"https://overiq.com/media/uploads/operator-precedence-example-2-1504587709810.png\" width=\"400\">"
   ]
  },
  {
   "cell_type": "code",
   "execution_count": 1,
   "metadata": {
    "colab": {
     "base_uri": "https://localhost:8080/"
    },
    "executionInfo": {
     "elapsed": 6,
     "status": "ok",
     "timestamp": 1718462323041,
     "user": {
      "displayName": "Thana Hongsuwan",
      "userId": "11586563108834032651"
     },
     "user_tz": -420
    },
    "id": "ixFaYocecGtE",
    "outputId": "d111cdd5-f378-4fd2-cf97-c7c54dc6792d"
   },
   "outputs": [
    {
     "name": "stdout",
     "output_type": "stream",
     "text": [
      "7.0\n"
     ]
    }
   ],
   "source": [
    "print (3 * 3 + 3 / 3 - 3)"
   ]
  },
  {
   "cell_type": "markdown",
   "metadata": {
    "id": "tsu5KHibcMh6"
   },
   "source": [
    "## การปัดเศษ\n",
    "\n",
    "ในการคำนวณทางคณิตศาสตร์ที่ให้ผลเป็นเลขทศนิยม (เช่นในบรรทัดแรก)\n",
    "ในกรณีที่เราต้องการเฉพาะข้อมูลบางส่วน สามารถทำได้หลายวิธี\n",
    "- ใช้ int เพื่อแปลงเป็นจำนวนเต็ม หรือใช้ //\n",
    "- ใช้คำสั่ง round เพื่อปัดเศษ โดยสามารถเลือกได้จะต้องการทศนิยมกี่ตำแหน่ง\n"
   ]
  },
  {
   "cell_type": "code",
   "execution_count": null,
   "metadata": {
    "id": "8ibwddzxdHqn"
   },
   "outputs": [],
   "source": [
    "print(8/3)\n",
    "print(int(8/3))\n",
    "print(8//3)\n",
    "print(round(8/3))\n",
    "print(round(8/3,2))"
   ]
  },
  {
   "cell_type": "markdown",
   "metadata": {
    "id": "hZcYIDnrdcNR"
   },
   "source": [
    "## การเขียนอย่างย่อ\n",
    "\n",
    "ในกรณีที่เราเขียนคำสั่งที่มีลักษณะเป็น a = a + b เราสามารถเขียนแบบย่อได้\n",
    "\n",
    "- a = a + b สามารถเขียนเป็น a += b\n",
    "- a = a - b สามารถเขียนเป็น a -= b\n",
    "- a = a * b สามารถเขียนเป็น a *= b\n",
    "- a = a / b สามารถเขียนเป็น a /= b\n"
   ]
  },
  {
   "cell_type": "markdown",
   "metadata": {
    "id": "q0tRLS6Td4Xw"
   },
   "source": [
    "## ตัวอย่าง\n",
    "\n",
    "สมมติต้องการเขียนโปรแกรมหาค่า BMI (Body mass index) ซึ่งมีสูตร นน(กก.)/ความสูง(เมตร) ยกกำลัง 2\n",
    "\n"
   ]
  },
  {
   "cell_type": "code",
   "execution_count": null,
   "metadata": {
    "colab": {
     "base_uri": "https://localhost:8080/"
    },
    "executionInfo": {
     "elapsed": 571,
     "status": "ok",
     "timestamp": 1718180307795,
     "user": {
      "displayName": "Thana Hongsuwan",
      "userId": "11586563108834032651"
     },
     "user_tz": -420
    },
    "id": "Mh_YpIprhtDD",
    "outputId": "db37731e-7711-47f8-b18d-cbbf9e9090ce"
   },
   "outputs": [
    {
     "name": "stdout",
     "output_type": "stream",
     "text": [
      "22.49134948096886\n"
     ]
    }
   ],
   "source": [
    "h = 1.7\n",
    "w = 65\n",
    "bmi = w / h ** 2\n",
    "print(bmi)"
   ]
  },
  {
   "cell_type": "markdown",
   "metadata": {
    "id": "Y9wSyDsHh4Rv"
   },
   "source": [
    "คำนวณสินค้าที่มีภาษีมูลค่าเพิ่ม\n"
   ]
  },
  {
   "cell_type": "code",
   "execution_count": null,
   "metadata": {
    "colab": {
     "base_uri": "https://localhost:8080/"
    },
    "executionInfo": {
     "elapsed": 3,
     "status": "ok",
     "timestamp": 1718180457739,
     "user": {
      "displayName": "Thana Hongsuwan",
      "userId": "11586563108834032651"
     },
     "user_tz": -420
    },
    "id": "Si9OsJllh_cl",
    "outputId": "ba820a33-534a-49aa-a4b6-65738312230f"
   },
   "outputs": [
    {
     "name": "stdout",
     "output_type": "stream",
     "text": [
      "128.4\n"
     ]
    }
   ],
   "source": [
    "price = 120\n",
    "vat_rate = 1.07\n",
    "price *= vat_rate\n",
    "print(price)"
   ]
  },
  {
   "cell_type": "markdown",
   "metadata": {
    "id": "U145SseDi19X"
   },
   "source": [
    "ฟังก์ชันทางคณิตศาสตร์อื่นๆ ที่น่าสนใจ\n",
    "- abs(x) ใช้ในการหา absolute value ของ x\n",
    "- sqrt(x) ใช้ในการหา square root ของ x\n",
    "- floor(x) ใช้ในการหาตัวเลข int ที่มากที่สุดที่น้อยกว่า x\n",
    "- ceil(x)ใช้ในการหาตัวเลข int ที่น้อยที่สุดที่มากกว่า x\n",
    "- ฟังก์ชันทางคณิตศาสตร์อื่นๆ ดูได้ที่\n",
    "https://www.programiz.com/python-programming/modules/math\n"
   ]
  },
  {
   "cell_type": "markdown",
   "metadata": {
    "id": "zCeG8jZ1i_Jd"
   },
   "source": [
    "## การจัดรูปแบบการแสดงผล\n",
    "\n",
    "เราสามารถจัดรูปแบบการแสดงผล โดยจัดเรียงข้อความกับตัวแปรได้ โดยใช้ f-string\n"
   ]
  },
  {
   "cell_type": "code",
   "execution_count": null,
   "metadata": {
    "colab": {
     "base_uri": "https://localhost:8080/"
    },
    "executionInfo": {
     "elapsed": 526,
     "status": "ok",
     "timestamp": 1718180763718,
     "user": {
      "displayName": "Thana Hongsuwan",
      "userId": "11586563108834032651"
     },
     "user_tz": -420
    },
    "id": "1WPfNbLajSvF",
    "outputId": "f298a6fb-def9-4904-e904-b8d5ddc1f91c"
   },
   "outputs": [
    {
     "name": "stdout",
     "output_type": "stream",
     "text": [
      "Hello, ada lovelace!\n",
      "Hello, ada lovelace!\n"
     ]
    }
   ],
   "source": [
    "first_name = \"ada\"\n",
    "last_name = \"lovelace\"\n",
    "full_name = f\"{first_name} {last_name}\"\n",
    "message = f\"Hello, {full_name}!\"\n",
    "print(message)\n",
    "print(f\"Hello, {full_name}!\")"
   ]
  },
  {
   "cell_type": "markdown",
   "metadata": {
    "id": "F6kPn28Ojj4t"
   },
   "source": [
    "สามารถจัดรูปแบบได้\n",
    "- :15 = พื้นที่แสดง 15 ช่อง\n",
    "- :<  จัดชิดซ้าย\n",
    "- :> จัดชิดขวา\n",
    "- :^ จัดตรงกลาง\n"
   ]
  },
  {
   "cell_type": "code",
   "execution_count": null,
   "metadata": {
    "colab": {
     "base_uri": "https://localhost:8080/"
    },
    "executionInfo": {
     "elapsed": 501,
     "status": "ok",
     "timestamp": 1718181122073,
     "user": {
      "displayName": "Thana Hongsuwan",
      "userId": "11586563108834032651"
     },
     "user_tz": -420
    },
    "id": "94b_kTrHkpyY",
    "outputId": "1f905726-ed99-48e1-c40f-24e048c0d0d0"
   },
   "outputs": [
    {
     "name": "stdout",
     "output_type": "stream",
     "text": [
      "thThailand\n",
      "th   |Thailand       |\n",
      "th   |Thailand       |\n",
      "   th|       Thailand|\n",
      "***th|-------Thailand|\n",
      " th  |   Thailand    |\n"
     ]
    }
   ],
   "source": [
    "print(f'{\"th\"}{\"Thailand\"}')\n",
    "print(f'{\"th\":5}|{\"Thailand\":15}|')\n",
    "print(f'{\"th\":<5}|{\"Thailand\":<15}|')\n",
    "print(f'{\"th\":>5}|{\"Thailand\":>15}|')\n",
    "print(f'{\"th\":*>5}|{\"Thailand\":->15}|')\n",
    "print(f'{\"th\":^5}|{\"Thailand\":^15}|')"
   ]
  },
  {
   "cell_type": "markdown",
   "metadata": {
    "id": "nPe9J28olG-R"
   },
   "source": [
    "คำสั่ง print มี option อื่นๆ เช่น seperator, end"
   ]
  },
  {
   "cell_type": "code",
   "execution_count": null,
   "metadata": {
    "colab": {
     "base_uri": "https://localhost:8080/"
    },
    "executionInfo": {
     "elapsed": 487,
     "status": "ok",
     "timestamp": 1718181209490,
     "user": {
      "displayName": "Thana Hongsuwan",
      "userId": "11586563108834032651"
     },
     "user_tz": -420
    },
    "id": "epfkbXZ5lHmL",
    "outputId": "d221b52d-4ec8-4520-98f7-21ee9298b88e"
   },
   "outputs": [
    {
     "name": "stdout",
     "output_type": "stream",
     "text": [
      "Hello---how are you?\n",
      "a = 000005\n",
      "\n",
      "\n",
      "a = 05\n",
      "Hellopython\n"
     ]
    }
   ],
   "source": [
    "print(\"Hello\", \"how are you?\", sep=\"---\")\n",
    "\n",
    "a = 5\n",
    "print(\"a = \", a, sep='00000', end='\\n\\n\\n')\n",
    "print(\"a = \", a, sep='0', end='\\n')\n",
    "\n",
    "str1 = \"Hello\"\n",
    "str2 = \"python\"\n",
    "print(str1, end='')\n",
    "print(str2)"
   ]
  },
  {
   "cell_type": "markdown",
   "metadata": {
    "id": "pmKG_F0plWQz"
   },
   "source": [
    "## การรับ Input ครั้งละหลายค่า\n",
    "\n",
    "เราสามารถรับ Input ครั้งละหลายค่าได้"
   ]
  },
  {
   "cell_type": "code",
   "execution_count": null,
   "metadata": {
    "colab": {
     "base_uri": "https://localhost:8080/"
    },
    "executionInfo": {
     "elapsed": 20984,
     "status": "ok",
     "timestamp": 1718181484657,
     "user": {
      "displayName": "Thana Hongsuwan",
      "userId": "11586563108834032651"
     },
     "user_tz": -420
    },
    "id": "mwV-StY8lh9b",
    "outputId": "9c3b1a33-2670-453f-d66b-d508a1312683"
   },
   "outputs": [
    {
     "name": "stdout",
     "output_type": "stream",
     "text": [
      "1 2 3\n",
      "1 2 3\n",
      "4 5 \n",
      "4 5\n",
      "6 7 8\n",
      "6.0 7.0 8.0\n"
     ]
    }
   ],
   "source": [
    "#* กรณีรับ String\n",
    "#---------------------------------------------\n",
    "a,b,c = input().split()                      # ต้องป้อน 3 ค่าคั่นด้วย space\n",
    "print(a,b,c)\n",
    "#---------------------------------------------\n",
    "#* กรณีรับ integer\n",
    "#---------------------------------------------\n",
    "x,y = [int(e) for e in input().split()]     # ป้อน int x,y\n",
    "print(x,y)\n",
    "#---------------------------------------------\n",
    "#* กรณีรับ float\n",
    "#---------------------------------------------\n",
    "a,b,c = [float(e) for e in input().split()]\n",
    "print(a,b,c)\n"
   ]
  },
  {
   "cell_type": "markdown",
   "metadata": {
    "id": "UlNNwVg5NXXq"
   },
   "source": [
    "#Exercise\n",
    "\n",
    "1.\tจงเขียนโปรแกรม เพื่อคํานวณหาพื้นที่ของสามเหลี่ยม Area = ½ x ฐาน x สูง  โดยมีข้อมูลเข้า  (Input) จากคีย์บอร์ด คือ ค่าของฐานของสามเหลี่ยม (b: Base) และค่าความสูงของสามเหลี่ยม (h: Height)  \n",
    "2.\tจงเขียนโปรแกรม เพื่อคํานวณหาปริมาตรของรูปทรงกระบอก Volume = Area x H โดยมีข้อมูลเข้า (Input) จากคีย์บอร์ด คือ ค่าของรัศมีของวงกลม (r: Radius) ที่เป็นฐานของรูปทรงกระบอก และค่าความสูงของรูปทรงกระบอก (h: Height) ตามลําดับ\n",
    "วิธีการคํานวณ ปริมาตร =(π =3.14) * r * r * h\n",
    "3.\tจงเขียนโปรแกรม เพื่อรับค่าของเวลาปัจจุบัน 3 ค่า คือ ชั่วโมง (Hour), นาที (Min), และวินาที (Sec) เป็น ข้อมูลเข้า (Input) จากคีย์บอร์ด และพิมพ ค่าของเวลานั้น ในรูปแบบ hh:mm:ss ตัวอย่างเช่น\n",
    "- ENTER current Hour = 10\n",
    "- ENTER current Min = 45\n",
    "- ENTER current Sec = 5\n",
    "- Current time is 10:45:05\n",
    "4.\tจงเขียนโปรแกรม เพื่อคํานวณคะแนนรวมของผลสอบวิชา Programming จากคะแนน Mid-term, คะแนน Final, และคะแนน Homework เป็นข้อมูลเข้า (Input) จากคีย์บอร์ด และแสดงผลลัพธ์จากการ คํานวณ เมื่อ\n",
    "คะแนนรวม (Total) = Mid-term (40%) + Final (50%) + HW (10%)\n",
    "5.\tจงเขียนโปรแกรม เพื่อคํานวณค่าเฉลี่ย (Mean) ของข้อมูล (Input) 4 ค่าที่รับจากคีย์บอร์ด คั่นด้วยช่องว่าง เพื่อเก็บในตัว แปร (x1, x2, x3, x4)  และแสดงผลลัพธ์ จากการคํานวณ เมื่อ Mean = (x1+x2+x3+x4) / 4\n",
    "6.\tให้เขียนโปรแกรมรับข้อมูลจาก Keyboard 2 ค่า คือ รหัสนักศึกษา และ ชื่อ จากนั้นแสดงผลในรูปแบบ  \"Student ID : [xx] Name : [nn] \" ขึ้นบรรทัดใหม่\n",
    "Year Entry : [แสดงปีที่รับเข้า] Last 4 Didit : [ ] Department : Computer Engineering\n",
    "7.\tการหาคำตอบของสมการ ax^2 + bx +c = 0 สามารถหาได้โดยใช้สูตร\n",
    "\n",
    "><img src=\"https://qph.cf2.quoracdn.net/main-qimg-d990fb26c769b0b8a30b7f976863e83d\" width=\"200\">\n",
    "\n",
    "> จงเขียนโปรแกรม รับค่า a, b, c และคำนวณค่า x\n",
    "- hint : การทำ square root ใช้ ยกกำลัง 0.5\n",
    "โปรแกรมนี้มี x จำนวน 2 ค่า ให้พิมพ์คำตอบคั่นด้วย ,\n",
    "\n",
    "\n"
   ]
  }
 ],
 "metadata": {
  "colab": {
   "authorship_tag": "ABX9TyPtlgL1AZZZL50yv/OwkkFS",
   "provenance": [],
   "toc_visible": true
  },
  "kernelspec": {
   "display_name": "Python 3 (ipykernel)",
   "language": "python",
   "name": "python3"
  },
  "language_info": {
   "codemirror_mode": {
    "name": "ipython",
    "version": 3
   },
   "file_extension": ".py",
   "mimetype": "text/x-python",
   "name": "python",
   "nbconvert_exporter": "python",
   "pygments_lexer": "ipython3",
   "version": "3.12.3"
  }
 },
 "nbformat": 4,
 "nbformat_minor": 4
}
